{
 "cells": [
  {
   "cell_type": "code",
   "execution_count": 1,
   "metadata": {},
   "outputs": [
    {
     "name": "stdout",
     "output_type": "stream",
     "text": [
      "Enter your score:1/2\n",
      "Your score is 0\n"
     ]
    }
   ],
   "source": [
    "score = eval(input('Enter your score:'))\n",
    "if score >= 60:\n",
    "   score += 10\n",
    "print('Your score is %d'%(score))"
   ]
  },
  {
   "cell_type": "code",
   "execution_count": 2,
   "metadata": {},
   "outputs": [
    {
     "name": "stdout",
     "output_type": "stream",
     "text": [
      "Enter your score:1/2\n",
      "Your score is 8\n"
     ]
    }
   ],
   "source": [
    "score = eval(input('Enter your score:'))\n",
    "if score >= 60:\n",
    "   score += 10\n",
    "else:\n",
    "    score += 8\n",
    "print('Your score is %d'%(score))"
   ]
  },
  {
   "cell_type": "code",
   "execution_count": 1,
   "metadata": {},
   "outputs": [
    {
     "name": "stdout",
     "output_type": "stream",
     "text": [
      "Enter temperature today:25\n",
      "Comfortable\n",
      "Over\n"
     ]
    }
   ],
   "source": [
    "temperature = eval(input('Enter temperature today:'))\n",
    "if temperature >= 28:\n",
    "    print('Hot')\n",
    "else:\n",
    "    print('Comfortable')\n",
    "print('Over')    "
   ]
  },
  {
   "cell_type": "markdown",
   "metadata": {},
   "source": [
    "temperature = eval(input('Enter temperature today:'))\n",
    "humility = eval(input('Enter humility today:'))\n",
    "if temperature >= 28:\n",
    "   print('Hot')\n",
    "elif temperature >= 22 and humility >= 40 and humility <= 50:\n",
    "   print('Comfortable')\n",
    "else:\n",
    "   print('Cold')\n",
    "print('Over')   \n"
   ]
  },
  {
   "cell_type": "code",
   "execution_count": 2,
   "metadata": {},
   "outputs": [
    {
     "name": "stdout",
     "output_type": "stream",
     "text": [
      "Enter temperature today:26\n",
      "Comfortable\n",
      "Over\n"
     ]
    }
   ],
   "source": [
    "temperature = eval(input('Enter temperature today:'))\n",
    "if temperature >= 28:\n",
    "    print('Hot')\n",
    "elif temperature >= 22:\n",
    "    print('Comfortable')\n",
    "else:\n",
    "    print('Cold')\n",
    "print('Over')    "
   ]
  },
  {
   "cell_type": "code",
   "execution_count": 3,
   "metadata": {},
   "outputs": [
    {
     "name": "stdout",
     "output_type": "stream",
     "text": [
      "Enter a character:24\n",
      "24 is other character\n"
     ]
    }
   ],
   "source": [
    "char = input('Enter a character:')\n",
    "if char >= 'a' and char <= 'z':\n",
    "   print('%c is lowercase character'%(char))\n",
    "elif char >='A' and char <= 'Z':\n",
    "   print('%c is uppercase character'%(char))\n",
    "else:\n",
    "    print('%s is other character'%(char))"
   ]
  },
  {
   "cell_type": "code",
   "execution_count": 14,
   "metadata": {},
   "outputs": [
    {
     "ename": "SyntaxError",
     "evalue": "EOL while scanning string literal (<ipython-input-14-9654792ee40d>, line 3)",
     "output_type": "error",
     "traceback": [
      "\u001b[1;36m  File \u001b[1;32m\"<ipython-input-14-9654792ee40d>\"\u001b[1;36m, line \u001b[1;32m3\u001b[0m\n\u001b[1;33m    print('% d'%(num),end=\")\u001b[0m\n\u001b[1;37m                            ^\u001b[0m\n\u001b[1;31mSyntaxError\u001b[0m\u001b[1;31m:\u001b[0m EOL while scanning string literal\n"
     ]
    }
   ],
   "source": [
    "num = eval(input('Enter a number:'))\n",
    "if num % 2 == 0:\n",
    "   print('% d'%(num),end=\")\n",
    "   print('is even number.')\n",
    "else:\n",
    "  print('% d'%(num), end=\")\n",
    "  print('is odd number.')\n",
    "print('Test is over')"
   ]
  },
  {
   "cell_type": "code",
   "execution_count": null,
   "metadata": {},
   "outputs": [],
   "source": []
  },
  {
   "cell_type": "code",
   "execution_count": null,
   "metadata": {},
   "outputs": [],
   "source": []
  }
 ],
 "metadata": {
  "kernelspec": {
   "display_name": "Python 3",
   "language": "python",
   "name": "python3"
  },
  "language_info": {
   "codemirror_mode": {
    "name": "ipython",
    "version": 3
   },
   "file_extension": ".py",
   "mimetype": "text/x-python",
   "name": "python",
   "nbconvert_exporter": "python",
   "pygments_lexer": "ipython3",
   "version": "3.8.3"
  }
 },
 "nbformat": 4,
 "nbformat_minor": 4
}
