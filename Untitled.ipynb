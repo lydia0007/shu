{
 "cells": [
  {
   "cell_type": "code",
   "execution_count": 10,
   "metadata": {},
   "outputs": [
    {
     "name": "stdout",
     "output_type": "stream",
     "text": [
      "height= 23.5\n",
      "weight= 19\n",
      "21.25\n",
      "446.5\n"
     ]
    }
   ],
   "source": [
    "height = 23.5\n",
    "weight = 19\n",
    "\n",
    "\n",
    "print('height=', height)\n",
    "print('weight=', weight)\n",
    "print((height+weight)/2)\n",
    "print(height*weight)\n"
   ]
  },
  {
   "cell_type": "code",
   "execution_count": 13,
   "metadata": {},
   "outputs": [
    {
     "name": "stdout",
     "output_type": "stream",
     "text": [
      "enter your length3\n",
      "height= 2.598076211353316\n",
      "area= 3.8971143170299736\n"
     ]
    }
   ],
   "source": [
    "s = eval(input('enter your length'))\n",
    "print('height=',(3**(1/2))/2*s)\n",
    "print('area=',(3**(1/2))/4*s**2)\n",
    "       "
   ]
  },
  {
   "cell_type": "code",
   "execution_count": 15,
   "metadata": {},
   "outputs": [
    {
     "name": "stdout",
     "output_type": "stream",
     "text": [
      "10.8\n"
     ]
    }
   ],
   "source": [
    "x = 10\n",
    "y = 25\n",
    "z = 3\n",
    "speed = (z/1.6)/(x/60+y/3600)\n",
    "print(speed)"
   ]
  },
  {
   "cell_type": "code",
   "execution_count": null,
   "metadata": {},
   "outputs": [],
   "source": []
  }
 ],
 "metadata": {
  "kernelspec": {
   "display_name": "Python 3",
   "language": "python",
   "name": "python3"
  },
  "language_info": {
   "codemirror_mode": {
    "name": "ipython",
    "version": 3
   },
   "file_extension": ".py",
   "mimetype": "text/x-python",
   "name": "python",
   "nbconvert_exporter": "python",
   "pygments_lexer": "ipython3",
   "version": "3.7.3"
  }
 },
 "nbformat": 4,
 "nbformat_minor": 2
}
