{
 "cells": [
  {
   "cell_type": "code",
   "execution_count": 1,
   "metadata": {},
   "outputs": [
    {
     "name": "stdout",
     "output_type": "stream",
     "text": [
      "888\n",
      "100\n",
      "-888\n",
      "100\n",
      "8\n",
      "6\n",
      "123\n",
      "123.46\n"
     ]
    }
   ],
   "source": [
    "a = -888\n",
    "b = 100\n",
    "c = 10\n",
    "d = 2\n",
    "e = 0.5\n",
    "print(abs(a))\n",
    "print(max(a, b, c, d, e))\n",
    "print(min(a, b, c, d, e))\n",
    "print(pow(c, d))\n",
    "print(round(7.5))\n",
    "print(round(6.5))\n",
    "print(int(123.456))\n",
    "print(round(123.456, 2))"
   ]
  },
  {
   "cell_type": "code",
   "execution_count": 3,
   "metadata": {},
   "outputs": [
    {
     "name": "stdout",
     "output_type": "stream",
     "text": [
      "123.45\n",
      "9\n",
      "8\n",
      "2.718281828459045\n",
      "4.605170185988092\n",
      "2.0\n",
      "1000.0\n"
     ]
    }
   ],
   "source": [
    "import math\n",
    "a = math.fabs(-123.45)\n",
    "print(a)\n",
    "\n",
    "b = math.ceil(8.8)\n",
    "print(b)\n",
    "\n",
    "c = math.floor(8.8)\n",
    "print(c)\n",
    "\n",
    "d = math.exp(1)\n",
    "print(d)\n",
    "\n",
    "e = math.log(100)\n",
    "print(e)\n",
    "\n",
    "f = math.log(100, 10)\n",
    "print(f)\n",
    "\n",
    "g = math.sqrt(1000000)\n",
    "print(g)"
   ]
  },
  {
   "cell_type": "code",
   "execution_count": 4,
   "metadata": {},
   "outputs": [
    {
     "name": "stdout",
     "output_type": "stream",
     "text": [
      "0.0\n",
      "-2.4492935982947064e-16\n",
      "360.0\n",
      "6.283185307179586\n"
     ]
    }
   ],
   "source": [
    "m = math.tan(0)\n",
    "print(m)\n",
    "\n",
    "n = math.tan(2*math.pi)\n",
    "print(n)\n",
    "\n",
    "p = math.degrees(2*math.pi)\n",
    "print(p)\n",
    "\n",
    "q = math.radians(360)\n",
    "print(q)"
   ]
  },
  {
   "cell_type": "code",
   "execution_count": 5,
   "metadata": {},
   "outputs": [
    {
     "name": "stdout",
     "output_type": "stream",
     "text": [
      "Apple i8\n",
      "122\n",
      "d\n"
     ]
    }
   ],
   "source": [
    "x = 'Apple i' + str(8)\n",
    "print(x)\n",
    "\n",
    "y = ord('z')\n",
    "print(y)\n",
    "\n",
    "z = chr(100)\n",
    "print(z)"
   ]
  },
  {
   "cell_type": "code",
   "execution_count": null,
   "metadata": {},
   "outputs": [],
   "source": []
  }
 ],
 "metadata": {
  "kernelspec": {
   "display_name": "Python 3",
   "language": "python",
   "name": "python3"
  },
  "language_info": {
   "codemirror_mode": {
    "name": "ipython",
    "version": 3
   },
   "file_extension": ".py",
   "mimetype": "text/x-python",
   "name": "python",
   "nbconvert_exporter": "python",
   "pygments_lexer": "ipython3",
   "version": "3.8.3"
  }
 },
 "nbformat": 4,
 "nbformat_minor": 4
}
