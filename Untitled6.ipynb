{
 "cells": [
  {
   "cell_type": "code",
   "execution_count": 1,
   "metadata": {},
   "outputs": [
    {
     "name": "stdout",
     "output_type": "stream",
     "text": [
      "1050\n"
     ]
    }
   ],
   "source": [
    "fiveMulti = 0\n",
    "k = 5\n",
    "while k <= 100:\n",
    "    fiveMulti += k\n",
    "    k += 5\n",
    "print(fiveMulti)"
   ]
  },
  {
   "cell_type": "code",
   "execution_count": 12,
   "metadata": {},
   "outputs": [
    {
     "name": "stdout",
     "output_type": "stream",
     "text": [
      "0123456789\n",
      "23456789\n",
      "13579\n",
      "9753\n"
     ]
    }
   ],
   "source": [
    "for i in range(10):\n",
    "    print(i, end='')\n",
    "print('')\n",
    "          \n",
    "for i in range (2, 10):\n",
    "    print(i, end='')\n",
    "print('')\n",
    "           \n",
    "for i in range(1, 10, 2):\n",
    "    print(i, end='')\n",
    "print('')\n",
    "            \n",
    "for i in range (9, 1, -2):\n",
    "    print(i, end='')\n",
    "print('')"
   ]
  },
  {
   "cell_type": "code",
   "execution_count": 13,
   "metadata": {},
   "outputs": [
    {
     "name": "stdout",
     "output_type": "stream",
     "text": [
      "  0  1  2  3  4  5  6  7  8  9\n",
      "  2  3  4  5  6  7  8  9\n",
      "  1  3  5  7  9\n",
      "  9  7  5  3\n"
     ]
    }
   ],
   "source": [
    "for i in range(10):\n",
    "    print('%3d'%(i), end='')\n",
    "print('')\n",
    "\n",
    "for i in range(2, 10):\n",
    "    print('%3d'%(i), end='')\n",
    "print('')\n",
    "\n",
    "for i in range(1, 10, 2):\n",
    "    print('%3d'%(i), end='')\n",
    "print('')\n",
    "\n",
    "for i in range(9, 1, -2):\n",
    "    print('%3d'%(i), end='')\n",
    "print('')"
   ]
  },
  {
   "cell_type": "code",
   "execution_count": 14,
   "metadata": {},
   "outputs": [
    {
     "name": "stdout",
     "output_type": "stream",
     "text": [
      "1+2+3...+100=5050\n"
     ]
    }
   ],
   "source": [
    "total = 0\n",
    "num = 0\n",
    "while True:\n",
    "    num +=1\n",
    "    total += num\n",
    "    if total>= 5050:\n",
    "        break\n",
    "print('1+2+3...+%d=%d'%(num, total))"
   ]
  },
  {
   "cell_type": "code",
   "execution_count": 15,
   "metadata": {},
   "outputs": [
    {
     "name": "stdout",
     "output_type": "stream",
     "text": [
      "1+3+5..+99= 2500\n"
     ]
    }
   ],
   "source": [
    "total = 0 \n",
    "num = 1\n",
    "while num <= 100:\n",
    "    if num % 2 == 0:\n",
    "        num += 1\n",
    "        continue\n",
    "    total += num\n",
    "    num += 1\n",
    "print('1+3+5..+99=', total)"
   ]
  },
  {
   "cell_type": "code",
   "execution_count": 16,
   "metadata": {},
   "outputs": [
    {
     "name": "stdout",
     "output_type": "stream",
     "text": [
      "1+3+5..+99 =  2500\n"
     ]
    }
   ],
   "source": [
    "total = 0\n",
    "for i in range(1, 101):\n",
    "    if i % 2 == 1:\n",
    "        total += i\n",
    "    else:\n",
    "        continue\n",
    "print('1+3+5..+99 = ', total)"
   ]
  },
  {
   "cell_type": "code",
   "execution_count": 21,
   "metadata": {},
   "outputs": [
    {
     "name": "stdout",
     "output_type": "stream",
     "text": [
      "**********\n",
      "*********\n",
      "********\n",
      "*******\n",
      "******\n",
      "*****\n",
      "****\n",
      "***\n",
      "**\n",
      "*\n"
     ]
    }
   ],
   "source": [
    "for i in range(10):\n",
    "    for j in range(i, 10):\n",
    "        print('*', end='')\n",
    "    print('')\n",
    "        "
   ]
  },
  {
   "cell_type": "code",
   "execution_count": 20,
   "metadata": {},
   "outputs": [
    {
     "name": "stdout",
     "output_type": "stream",
     "text": [
      "\n",
      "*\n",
      "**\n",
      "***\n",
      "****\n",
      "*****\n",
      "******\n",
      "*******\n",
      "********\n"
     ]
    }
   ],
   "source": [
    "for i in range(9):\n",
    "    for j in range(i):\n",
    "        print('*', end='')\n",
    "    print('')\n",
    "    "
   ]
  },
  {
   "cell_type": "code",
   "execution_count": null,
   "metadata": {},
   "outputs": [],
   "source": []
  }
 ],
 "metadata": {
  "kernelspec": {
   "display_name": "Python 3",
   "language": "python",
   "name": "python3"
  },
  "language_info": {
   "codemirror_mode": {
    "name": "ipython",
    "version": 3
   },
   "file_extension": ".py",
   "mimetype": "text/x-python",
   "name": "python",
   "nbconvert_exporter": "python",
   "pygments_lexer": "ipython3",
   "version": "3.8.3"
  }
 },
 "nbformat": 4,
 "nbformat_minor": 4
}
